{
 "cells": [
  {
   "cell_type": "markdown",
   "id": "a8f3369e-0c32-4b4b-8ef7-657191da4104",
   "metadata": {},
   "source": [
    "### Description\n",
    "1. Create a function named `calculate_discount(price, discount_percent)` that calculates the final price after applying a discount. The function should take the original price `price` and the discount percentage `discount_percent` as parameters. If the discount is 20% or higher, apply the discount; otherwise, return the original price.\n",
    "2. Using the `calculate_discount` function, prompt the user to enter the original price of an item and the discount percentage. Print the final price after applying the discount, or if no discount was applied, print the original price."
   ]
  },
  {
   "cell_type": "markdown",
   "id": "5a1c702a-51f8-416f-acbf-d92321aaba4e",
   "metadata": {},
   "source": [
    "> Create a function named `calculate_discount(price, discount_percent)` that calculates the final price after applying a discount. The function should take the original price `price` and the discount percentage `discount_percent` as parameters. If the discount is 20% or higher, apply the discount; otherwise, return the original price./"
   ]
  },
  {
   "cell_type": "code",
   "execution_count": 1,
   "id": "f7209e0a-bd09-4cda-a7a1-2c608d8f4deb",
   "metadata": {},
   "outputs": [],
   "source": [
    "def calculate_discount(price, discount_percent):\n",
    "    if discount_percent >= 0.20:\n",
    "        final_price = price * ( 1 - discount_percent)\n",
    "        return final_price\n",
    "    else:\n",
    "        return price"
   ]
  },
  {
   "cell_type": "code",
   "execution_count": 2,
   "id": "a28aeba1-e45c-4e12-84c5-01a291912207",
   "metadata": {},
   "outputs": [
    {
     "data": {
      "text/plain": [
       "10000"
      ]
     },
     "execution_count": 2,
     "metadata": {},
     "output_type": "execute_result"
    }
   ],
   "source": [
    "calculate_discount(10000, 0.1)"
   ]
  },
  {
   "cell_type": "code",
   "execution_count": 3,
   "id": "d4a1af31-d489-4850-a96e-b92a4ebfdf2f",
   "metadata": {},
   "outputs": [
    {
     "data": {
      "text/plain": [
       "8000.0"
      ]
     },
     "execution_count": 3,
     "metadata": {},
     "output_type": "execute_result"
    }
   ],
   "source": [
    "calculate_discount(10000, 0.2)"
   ]
  },
  {
   "cell_type": "code",
   "execution_count": 4,
   "id": "8a9c0ce3-907b-4522-a82b-34b8f499ccc0",
   "metadata": {},
   "outputs": [
    {
     "data": {
      "text/plain": [
       "7000.0"
      ]
     },
     "execution_count": 4,
     "metadata": {},
     "output_type": "execute_result"
    }
   ],
   "source": [
    "calculate_discount(10000, 0.3)"
   ]
  },
  {
   "cell_type": "markdown",
   "id": "97f75d70-42db-4dbf-b02e-1c896d7a992a",
   "metadata": {},
   "source": [
    "> Using the `calculate_discount` function, prompt the user to enter the original price of an item and the discount percentage. Print the final price after applying the discount, or if no discount was applied, print the original price."
   ]
  },
  {
   "cell_type": "code",
   "execution_count": 7,
   "id": "90bf176e-0dab-4e49-b523-bc01e944e860",
   "metadata": {},
   "outputs": [],
   "source": [
    "def calculate_discount(price, discount_percent=0):\n",
    "    if discount_percent >= 0.20:\n",
    "        final_price = price * ( 1 - discount_percent)\n",
    "        return final_price\n",
    "    else:\n",
    "        return price\n",
    "    return price"
   ]
  },
  {
   "cell_type": "code",
   "execution_count": 8,
   "id": "d633ebc9-30c5-47fb-941b-372cbb168ef7",
   "metadata": {},
   "outputs": [
    {
     "data": {
      "text/plain": [
       "10000"
      ]
     },
     "execution_count": 8,
     "metadata": {},
     "output_type": "execute_result"
    }
   ],
   "source": [
    "calculate_discount(10000)"
   ]
  },
  {
   "cell_type": "code",
   "execution_count": null,
   "id": "6593a25d-4479-4b39-8d26-aba5d2cd285b",
   "metadata": {},
   "outputs": [],
   "source": []
  }
 ],
 "metadata": {
  "kernelspec": {
   "display_name": "Python 3 (ipykernel)",
   "language": "python",
   "name": "python3"
  },
  "language_info": {
   "codemirror_mode": {
    "name": "ipython",
    "version": 3
   },
   "file_extension": ".py",
   "mimetype": "text/x-python",
   "name": "python",
   "nbconvert_exporter": "python",
   "pygments_lexer": "ipython3",
   "version": "3.13.2"
  }
 },
 "nbformat": 4,
 "nbformat_minor": 5
}
